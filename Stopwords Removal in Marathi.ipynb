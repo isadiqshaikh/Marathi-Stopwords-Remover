{
 "cells": [
  {
   "cell_type": "code",
   "execution_count": 1,
   "id": "d034a20a-b7b6-4cad-9157-5c277845ac69",
   "metadata": {},
   "outputs": [
    {
     "name": "stdout",
     "output_type": "stream",
     "text": [
      "Requirement already satisfied: nltk in c:\\users\\sadiq\\appdata\\local\\programs\\python\\python310\\lib\\site-packages (3.9.1)\n",
      "Requirement already satisfied: pandas in c:\\users\\sadiq\\appdata\\local\\programs\\python\\python310\\lib\\site-packages (2.2.3)\n",
      "Requirement already satisfied: click in c:\\users\\sadiq\\appdata\\local\\programs\\python\\python310\\lib\\site-packages (from nltk) (8.1.8)\n",
      "Requirement already satisfied: regex>=2021.8.3 in c:\\users\\sadiq\\appdata\\local\\programs\\python\\python310\\lib\\site-packages (from nltk) (2024.11.6)\n",
      "Requirement already satisfied: joblib in c:\\users\\sadiq\\appdata\\local\\programs\\python\\python310\\lib\\site-packages (from nltk) (1.4.2)\n",
      "Requirement already satisfied: tqdm in c:\\users\\sadiq\\appdata\\local\\programs\\python\\python310\\lib\\site-packages (from nltk) (4.67.1)\n",
      "Requirement already satisfied: pytz>=2020.1 in c:\\users\\sadiq\\appdata\\local\\programs\\python\\python310\\lib\\site-packages (from pandas) (2025.2)\n",
      "Requirement already satisfied: python-dateutil>=2.8.2 in c:\\users\\sadiq\\appdata\\local\\programs\\python\\python310\\lib\\site-packages (from pandas) (2.9.0.post0)\n",
      "Requirement already satisfied: tzdata>=2022.7 in c:\\users\\sadiq\\appdata\\local\\programs\\python\\python310\\lib\\site-packages (from pandas) (2025.2)\n",
      "Requirement already satisfied: numpy>=1.22.4 in c:\\users\\sadiq\\appdata\\local\\programs\\python\\python310\\lib\\site-packages (from pandas) (2.1.3)\n",
      "Requirement already satisfied: six>=1.5 in c:\\users\\sadiq\\appdata\\local\\programs\\python\\python310\\lib\\site-packages (from python-dateutil>=2.8.2->pandas) (1.17.0)\n",
      "Requirement already satisfied: colorama in c:\\users\\sadiq\\appdata\\local\\programs\\python\\python310\\lib\\site-packages (from click->nltk) (0.4.6)\n",
      "Note: you may need to restart the kernel to use updated packages.\n"
     ]
    },
    {
     "name": "stderr",
     "output_type": "stream",
     "text": [
      "\n",
      "[notice] A new release of pip is available: 23.0.1 -> 25.1\n",
      "[notice] To update, run: python.exe -m pip install --upgrade pip\n"
     ]
    }
   ],
   "source": [
    "pip install nltk pandas\n"
   ]
  },
  {
   "cell_type": "code",
   "execution_count": 2,
   "id": "9129c1a4-8676-406e-a140-f51635b883dc",
   "metadata": {},
   "outputs": [],
   "source": [
    "marathi_stopwords = [\n",
    "    \"आहे\", \"होते\", \"नाही\", \"तर\", \"पण\", \"आणि\", \"हे\", \"या\", \"हा\", \"त्याने\", \"त्याची\",\n",
    "    \"त्याला\", \"मी\", \"आपण\", \"आम्ही\", \"त्यांनी\", \"त्यांचा\", \"त्यांचे\", \"त्याच्या\"\n",
    "]\n"
   ]
  },
  {
   "cell_type": "code",
   "execution_count": 3,
   "id": "4c7915cf-1d29-4dc5-bba9-25b26b7ede7f",
   "metadata": {},
   "outputs": [],
   "source": [
    "def preprocess_text(text):\n",
    "    text = text.lower()  # Convert to lowercase\n",
    "    return text\n"
   ]
  },
  {
   "cell_type": "code",
   "execution_count": 4,
   "id": "ff36447e-3db6-457a-b6f1-2f24b5eb3ba3",
   "metadata": {},
   "outputs": [
    {
     "name": "stderr",
     "output_type": "stream",
     "text": [
      "[nltk_data] Downloading package punkt to\n",
      "[nltk_data]     C:\\Users\\sadiq\\AppData\\Roaming\\nltk_data...\n",
      "[nltk_data]   Package punkt is already up-to-date!\n"
     ]
    }
   ],
   "source": [
    "import nltk\n",
    "nltk.download('punkt')\n",
    "from nltk.tokenize import word_tokenize\n",
    "\n",
    "def tokenize_text(text):\n",
    "    return word_tokenize(text)\n"
   ]
  },
  {
   "cell_type": "code",
   "execution_count": 5,
   "id": "aaeb802b-42fb-40c0-97c3-3ab0f2f09355",
   "metadata": {},
   "outputs": [],
   "source": [
    "def remove_stopwords(words, stopwords_list):\n",
    "    return [word for word in words if word not in stopwords_list]\n"
   ]
  },
  {
   "cell_type": "code",
   "execution_count": 6,
   "id": "929ec484-e082-4967-a9ac-213a3f72a55f",
   "metadata": {},
   "outputs": [],
   "source": [
    "def remove_marathi_stopwords(text):\n",
    "    text = preprocess_text(text)\n",
    "    words = tokenize_text(text)\n",
    "    filtered_words = remove_stopwords(words, marathi_stopwords)\n",
    "    return \" \".join(filtered_words)  # Join words back into a sentence\n"
   ]
  },
  {
   "cell_type": "code",
   "execution_count": 7,
   "id": "9ce9f5e8-e656-4527-a7da-e84369bec4f9",
   "metadata": {},
   "outputs": [
    {
     "name": "stdout",
     "output_type": "stream",
     "text": [
      "Original Text: मी खूप आनंदी आहे आणि मला हे आवडले\n",
      "Processed Text: खूप आनंदी मला आवडले\n"
     ]
    }
   ],
   "source": [
    "text = \"मी खूप आनंदी आहे आणि मला हे आवडले\"\n",
    "cleaned_text = remove_marathi_stopwords(text)\n",
    "print(\"Original Text:\", text)\n",
    "print(\"Processed Text:\", cleaned_text)\n"
   ]
  },
  {
   "cell_type": "code",
   "execution_count": 11,
   "id": "d90262f8-993d-4e5f-9ec3-efb5c2da097e",
   "metadata": {},
   "outputs": [
    {
     "ename": "ModuleNotFoundError",
     "evalue": "No module named 'indicnlp.stemmer'",
     "output_type": "error",
     "traceback": [
      "\u001b[1;31m---------------------------------------------------------------------------\u001b[0m",
      "\u001b[1;31mModuleNotFoundError\u001b[0m                       Traceback (most recent call last)",
      "Cell \u001b[1;32mIn[11], line 1\u001b[0m\n\u001b[1;32m----> 1\u001b[0m \u001b[38;5;28;01mfrom\u001b[39;00m\u001b[38;5;250m \u001b[39m\u001b[38;5;21;01mindicnlp\u001b[39;00m\u001b[38;5;21;01m.\u001b[39;00m\u001b[38;5;21;01mstemmer\u001b[39;00m\u001b[38;5;250m \u001b[39m\u001b[38;5;28;01mimport\u001b[39;00m Stemmer\n\u001b[0;32m      2\u001b[0m \u001b[38;5;28;01mfrom\u001b[39;00m\u001b[38;5;250m \u001b[39m\u001b[38;5;21;01mindicnlp\u001b[39;00m\u001b[38;5;250m \u001b[39m\u001b[38;5;28;01mimport\u001b[39;00m common\n",
      "\u001b[1;31mModuleNotFoundError\u001b[0m: No module named 'indicnlp.stemmer'"
     ]
    }
   ],
   "source": [
    "from indicnlp.stemmer import Stemmer\n",
    "from indicnlp import common\n"
   ]
  },
  {
   "cell_type": "code",
   "execution_count": 12,
   "id": "d1d364f1-64fe-4b26-aab5-4006c99c498b",
   "metadata": {},
   "outputs": [
    {
     "name": "stderr",
     "output_type": "stream",
     "text": [
      "ERROR: Could not find a version that satisfies the requirement indicnlp.stemmer (from versions: none)\n",
      "ERROR: No matching distribution found for indicnlp.stemmer\n",
      "\n",
      "[notice] A new release of pip is available: 23.0.1 -> 25.1\n",
      "[notice] To update, run: python.exe -m pip install --upgrade pip\n"
     ]
    }
   ],
   "source": [
    "!pip install indicnlp.stemmer"
   ]
  },
  {
   "cell_type": "code",
   "execution_count": null,
   "id": "51082f0d-3a9b-46fa-8ca5-92e9bd2ddd49",
   "metadata": {},
   "outputs": [],
   "source": []
  },
  {
   "cell_type": "code",
   "execution_count": null,
   "id": "4989e157-0e83-412f-992f-6d9120d009e9",
   "metadata": {},
   "outputs": [],
   "source": []
  }
 ],
 "metadata": {
  "kernelspec": {
   "display_name": "Python 3 (ipykernel)",
   "language": "python",
   "name": "python3"
  },
  "language_info": {
   "codemirror_mode": {
    "name": "ipython",
    "version": 3
   },
   "file_extension": ".py",
   "mimetype": "text/x-python",
   "name": "python",
   "nbconvert_exporter": "python",
   "pygments_lexer": "ipython3",
   "version": "3.10.11"
  }
 },
 "nbformat": 4,
 "nbformat_minor": 5
}
